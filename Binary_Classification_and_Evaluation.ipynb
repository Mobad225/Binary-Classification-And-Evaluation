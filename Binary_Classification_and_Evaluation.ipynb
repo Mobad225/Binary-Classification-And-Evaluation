{
  "nbformat": 4,
  "nbformat_minor": 0,
  "metadata": {
    "colab": {
      "name": "Binary Classification and Evaluation.ipynb",
      "provenance": [],
      "collapsed_sections": [],
      "authorship_tag": "ABX9TyOWIm9zUww1wKcGGyRh8A5Y",
      "include_colab_link": true
    },
    "kernelspec": {
      "name": "python3",
      "display_name": "Python 3"
    }
  },
  "cells": [
    {
      "cell_type": "markdown",
      "metadata": {
        "id": "view-in-github",
        "colab_type": "text"
      },
      "source": [
        "<a href=\"https://colab.research.google.com/github/Mobad225/Binary-Classification-And-Evaluation/blob/master/Binary_Classification_and_Evaluation.ipynb\" target=\"_parent\"><img src=\"https://colab.research.google.com/assets/colab-badge.svg\" alt=\"Open In Colab\"/></a>"
      ]
    },
    {
      "cell_type": "markdown",
      "metadata": {
        "id": "J2Z1jqyMZE0X",
        "colab_type": "text"
      },
      "source": [
        "# Loading the dataset"
      ]
    },
    {
      "cell_type": "code",
      "metadata": {
        "id": "h0bcy2OvY_bP",
        "colab_type": "code",
        "outputId": "ebd4b910-f601-402a-c1fe-22550f02ed3d",
        "colab": {
          "base_uri": "https://localhost:8080/",
          "height": 34
        }
      },
      "source": [
        "from sklearn.datasets import fetch_openml\n",
        "mnist = fetch_openml('mnist_784', version = 1)\n",
        "mnist.keys()"
      ],
      "execution_count": 1,
      "outputs": [
        {
          "output_type": "execute_result",
          "data": {
            "text/plain": [
              "dict_keys(['data', 'target', 'frame', 'feature_names', 'target_names', 'DESCR', 'details', 'categories', 'url'])"
            ]
          },
          "metadata": {
            "tags": []
          },
          "execution_count": 1
        }
      ]
    },
    {
      "cell_type": "code",
      "metadata": {
        "id": "Bucycw59ZWLR",
        "colab_type": "code",
        "outputId": "79029e8f-d8c4-4bbb-d775-21aad937069f",
        "colab": {
          "base_uri": "https://localhost:8080/",
          "height": 34
        }
      },
      "source": [
        "import numpy as np\n",
        "\n",
        "X, y = mnist['data'], mnist['target']\n",
        "print(X.shape, y.shape)\n",
        "\n",
        "#Since labels are chars, I will change them to ints\n",
        "y = y.astype(np.uint8)"
      ],
      "execution_count": 4,
      "outputs": [
        {
          "output_type": "stream",
          "text": [
            "(70000, 784) (70000,)\n"
          ],
          "name": "stdout"
        }
      ]
    },
    {
      "cell_type": "markdown",
      "metadata": {
        "id": "s3WlO-JZZ_13",
        "colab_type": "text"
      },
      "source": [
        "## Visualizing a random photo and its label"
      ]
    },
    {
      "cell_type": "code",
      "metadata": {
        "id": "urOrQmiyZhpe",
        "colab_type": "code",
        "outputId": "26a912f6-7978-4070-df53-c8d75a29e937",
        "colab": {
          "base_uri": "https://localhost:8080/",
          "height": 281
        }
      },
      "source": [
        "from random import randint\n",
        "import matplotlib.pyplot as plt\n",
        "\n",
        "ind = randint(0, X.shape[0] - 1)\n",
        "digit, digit_label = X[ind], y[ind]\n",
        "\n",
        "digit_image = digit.reshape(28, 28)\n",
        "\n",
        "plt.imshow(digit_image, cmap = 'binary')\n",
        "plt.title(digit_label)\n",
        "plt.show()"
      ],
      "execution_count": 5,
      "outputs": [
        {
          "output_type": "display_data",
          "data": {
            "image/png": "[encoded data removed]",
            "text/plain": [
              "<Figure size 432x288 with 1 Axes>"
            ]
          },
          "metadata": {
            "tags": [],
            "needs_background": "light"
          }
        }
      ]
    },
    {
      "cell_type": "markdown",
      "metadata": {
        "id": "OWQynRMDbhw_",
        "colab_type": "text"
      },
      "source": [
        "# Split test/train sets\n",
        "## This dataset is already split 60k train + 10k test"
      ]
    },
    {
      "cell_type": "code",
      "metadata": {
        "id": "UJwOFqDYabLN",
        "colab_type": "code",
        "colab": {}
      },
      "source": [
        "X_train, X_test, y_train, y_test = X[:60000], X[60000:], y[:60000], y[60000:]"
      ],
      "execution_count": 0,
      "outputs": []
    },
    {
      "cell_type": "markdown",
      "metadata": {
        "id": "PbMemLcwb5V0",
        "colab_type": "text"
      },
      "source": [
        "## I will train a binary classifier that classifies 8 vs other numbers (OvR)"
      ]
    },
    {
      "cell_type": "code",
      "metadata": {
        "id": "ds-wFxC7by3Z",
        "colab_type": "code",
        "colab": {}
      },
      "source": [
        "#New labels\n",
        "y_train_8 = (y_train == 8)\n",
        "y_test_8 = (y_test == 8)"
      ],
      "execution_count": 0,
      "outputs": []
    },
    {
      "cell_type": "code",
      "metadata": {
        "id": "L6U1wy3ocMOV",
        "colab_type": "code",
        "outputId": "a0fe2631-bd4c-4973-b783-fe1d5b98e719",
        "colab": {
          "base_uri": "https://localhost:8080/",
          "height": 119
        }
      },
      "source": [
        "#Will use SGD classifier\n",
        "from sklearn.linear_model import SGDClassifier\n",
        "\n",
        "sgd_clf = SGDClassifier(random_state = 22)\n",
        "sgd_clf.fit(X_train, y_train_8)"
      ],
      "execution_count": 8,
      "outputs": [
        {
          "output_type": "execute_result",
          "data": {
            "text/plain": [
              "SGDClassifier(alpha=0.0001, average=False, class_weight=None,\n",
              "              early_stopping=False, epsilon=0.1, eta0=0.0, fit_intercept=True,\n",
              "              l1_ratio=0.15, learning_rate='optimal', loss='hinge',\n",
              "              max_iter=1000, n_iter_no_change=5, n_jobs=None, penalty='l2',\n",
              "              power_t=0.5, random_state=22, shuffle=True, tol=0.001,\n",
              "              validation_fraction=0.1, verbose=0, warm_start=False)"
            ]
          },
          "metadata": {
            "tags": []
          },
          "execution_count": 8
        }
      ]
    },
    {
      "cell_type": "markdown",
      "metadata": {
        "id": "Oz_b1YSYdzy0",
        "colab_type": "text"
      },
      "source": [
        "## Lets check if the classifier thinks the above digit is an 8!"
      ]
    },
    {
      "cell_type": "code",
      "metadata": {
        "id": "e1zjadk7clnO",
        "colab_type": "code",
        "outputId": "ed14cfce-6e9d-4bcb-ba54-20e82f6bd100",
        "colab": {
          "base_uri": "https://localhost:8080/",
          "height": 34
        }
      },
      "source": [
        "sgd_clf.predict([digit])\n",
        "#Looks good in this run :)"
      ],
      "execution_count": 9,
      "outputs": [
        {
          "output_type": "execute_result",
          "data": {
            "text/plain": [
              "array([False])"
            ]
          },
          "metadata": {
            "tags": []
          },
          "execution_count": 9
        }
      ]
    },
    {
      "cell_type": "markdown",
      "metadata": {
        "id": "pkhzCjtleUmE",
        "colab_type": "text"
      },
      "source": [
        "# Will check the performance measures of this classifier"
      ]
    },
    {
      "cell_type": "markdown",
      "metadata": {
        "id": "jxwq0scJegHf",
        "colab_type": "text"
      },
      "source": [
        "### First Ill use cross validation"
      ]
    },
    {
      "cell_type": "code",
      "metadata": {
        "id": "Em8-XNHUeEKN",
        "colab_type": "code",
        "outputId": "64f63e39-e586-4439-ede6-f5184c78ee7c",
        "colab": {
          "base_uri": "https://localhost:8080/",
          "height": 34
        }
      },
      "source": [
        "from sklearn.model_selection import cross_val_score\n",
        "\n",
        "cross_val_score(sgd_clf, X_train, y_train_8, cv = 3, scoring = 'accuracy')"
      ],
      "execution_count": 10,
      "outputs": [
        {
          "output_type": "execute_result",
          "data": {
            "text/plain": [
              "array([0.94535, 0.9338 , 0.92845])"
            ]
          },
          "metadata": {
            "tags": []
          },
          "execution_count": 10
        }
      ]
    },
    {
      "cell_type": "markdown",
      "metadata": {
        "id": "N3YGT2wSe-Na",
        "colab_type": "text"
      },
      "source": [
        "### Looks good but actually a random classifier would get 90%, I will first check the confusion matrix"
      ]
    },
    {
      "cell_type": "code",
      "metadata": {
        "id": "pUwrD9wceuV7",
        "colab_type": "code",
        "colab": {}
      },
      "source": [
        "from sklearn.model_selection import cross_val_predict\n",
        "\n",
        "predictions_8 = cross_val_predict(sgd_clf, X_train, y_train_8, cv = 3)"
      ],
      "execution_count": 0,
      "outputs": []
    },
    {
      "cell_type": "code",
      "metadata": {
        "id": "UkOg9UhCfbS9",
        "colab_type": "code",
        "outputId": "4f4f22b0-6445-43de-a0f0-282cfb3c72e7",
        "colab": {
          "base_uri": "https://localhost:8080/",
          "height": 51
        }
      },
      "source": [
        "from sklearn.metrics import confusion_matrix\n",
        "\n",
        "confusion_matrix(y_train_8, predictions_8)"
      ],
      "execution_count": 12,
      "outputs": [
        {
          "output_type": "execute_result",
          "data": {
            "text/plain": [
              "array([[52280,  1869],\n",
              "       [ 1979,  3872]])"
            ]
          },
          "metadata": {
            "tags": []
          },
          "execution_count": 12
        }
      ]
    },
    {
      "cell_type": "markdown",
      "metadata": {
        "id": "SZkHdR14gDew",
        "colab_type": "text"
      },
      "source": [
        "### And check the F1 score (Gives an idea about both precision & recall)"
      ]
    },
    {
      "cell_type": "code",
      "metadata": {
        "id": "PrDGjCt7frH5",
        "colab_type": "code",
        "outputId": "af8df28d-dfc4-48ce-926f-892cfb20cbb4",
        "colab": {
          "base_uri": "https://localhost:8080/",
          "height": 34
        }
      },
      "source": [
        "from sklearn.metrics import f1_score\n",
        "\n",
        "f1_score(y_train_8, predictions_8)\n",
        "#Obviously now, Its not as good as ~93% of the usual cross validation"
      ],
      "execution_count": 13,
      "outputs": [
        {
          "output_type": "execute_result",
          "data": {
            "text/plain": [
              "0.6680469289164942"
            ]
          },
          "metadata": {
            "tags": []
          },
          "execution_count": 13
        }
      ]
    },
    {
      "cell_type": "markdown",
      "metadata": {
        "id": "ob7n1aXJgafJ",
        "colab_type": "text"
      },
      "source": [
        "# Precision/Recall Tradeoff\n",
        "### Will use plots to visualize it"
      ]
    },
    {
      "cell_type": "code",
      "metadata": {
        "id": "HIEyFn6Ni_M_",
        "colab_type": "code",
        "colab": {}
      },
      "source": [
        "#To draw Precision/Recall vs threshold, I first need the scores not predictions\n",
        "\n",
        "predictions_8 = cross_val_predict(sgd_clf, X_train, y_train_8, cv = 3, method= 'decision_function')"
      ],
      "execution_count": 0,
      "outputs": []
    },
    {
      "cell_type": "code",
      "metadata": {
        "id": "226OOGNBgOy-",
        "colab_type": "code",
        "colab": {}
      },
      "source": [
        "from sklearn.metrics import precision_recall_curve\n",
        "\n",
        "prec, rec, thresholds = precision_recall_curve(y_train_8, predictions_8)\n",
        "\n",
        "def plot_prec_recall_threshold(precisions, recalls, thresholds):\n",
        "  plt.plot(thresholds, precisions[:-1], 'b--', label = 'Precision')\n",
        "  plt.plot(thresholds, recalls[:-1], 'g-', label = 'Recall')\n",
        "  plt.legend()\n",
        "  plt.rcParams[\"figure.figsize\"] = (8,6)\n",
        "  plt.xlabel('Threshold')"
      ],
      "execution_count": 0,
      "outputs": []
    },
    {
      "cell_type": "code",
      "metadata": {
        "id": "a2hqwmzthJPb",
        "colab_type": "code",
        "outputId": "bbba21f0-20cf-4b5a-d8ad-b385cdc36703",
        "colab": {
          "base_uri": "https://localhost:8080/",
          "height": 279
        }
      },
      "source": [
        "plot_prec_recall_threshold(prec, rec, thresholds)\n",
        "plt.show()"
      ],
      "execution_count": 16,
      "outputs": [
        {
          "output_type": "display_data",
          "data": {
            "image/png": "[encoded data removed]",
            "text/plain": [
              "<Figure size 432x288 with 1 Axes>"
            ]
          },
          "metadata": {
            "tags": [],
            "needs_background": "light"
          }
        }
      ]
    },
    {
      "cell_type": "markdown",
      "metadata": {
        "id": "PdLY1fUzj_HA",
        "colab_type": "text"
      },
      "source": [
        "Or draw directly Precision vs Recall"
      ]
    },
    {
      "cell_type": "code",
      "metadata": {
        "id": "9PqUZVsEhL3U",
        "colab_type": "code",
        "outputId": "4bd97e10-a426-41f8-b7fb-cc6591312f10",
        "colab": {
          "base_uri": "https://localhost:8080/",
          "height": 404
        }
      },
      "source": [
        "plt.plot(rec[:-1], prec[:-1])\n",
        "plt.xlabel('Recall')\n",
        "plt.ylabel('Precision')\n",
        "plt.title('PR Curve')\n",
        "plt.show()"
      ],
      "execution_count": 17,
      "outputs": [
        {
          "output_type": "display_data",
          "data": {
            "image/png": "[encoded data removed]",
            "text/plain": [
              "<Figure size 576x432 with 1 Axes>"
            ]
          },
          "metadata": {
            "tags": [],
            "needs_background": "light"
          }
        }
      ]
    },
    {
      "cell_type": "markdown",
      "metadata": {
        "id": "-QPKmR0ilu8Z",
        "colab_type": "text"
      },
      "source": [
        "## Lets make the model precision >= 90%!!!"
      ]
    },
    {
      "cell_type": "code",
      "metadata": {
        "id": "P2aYgM7Hl0nH",
        "colab_type": "code",
        "outputId": "6488fe44-9e77-4806-a0c7-353b5c4a0447",
        "colab": {
          "base_uri": "https://localhost:8080/",
          "height": 34
        }
      },
      "source": [
        "#Choose the precision where accuracy >= 90%\n",
        "\n",
        "threshold_90_precision = thresholds[np.argmax(prec >= 0.90)]\n",
        "#np.argmax returns only first occurence of a 1\n",
        "\n",
        "print(threshold_90_precision)"
      ],
      "execution_count": 18,
      "outputs": [
        {
          "output_type": "stream",
          "text": [
            "4107.575389829886\n"
          ],
          "name": "stdout"
        }
      ]
    },
    {
      "cell_type": "code",
      "metadata": {
        "id": "NrrBJGDUnLth",
        "colab_type": "code",
        "colab": {}
      },
      "source": [
        "#Since I have the score array, will use my specified threshold.\n",
        "\n",
        "y_train_pred_90 = (predictions_8 >= threshold_90_precision)\n",
        "#These are my new labels!"
      ],
      "execution_count": 0,
      "outputs": []
    },
    {
      "cell_type": "markdown",
      "metadata": {
        "id": "KLrWzTJUoMtf",
        "colab_type": "text"
      },
      "source": [
        "### I will make sure precision >= 90% and check the recall..."
      ]
    },
    {
      "cell_type": "code",
      "metadata": {
        "id": "twxKoDpJoRWW",
        "colab_type": "code",
        "outputId": "a07800fb-71c2-49e7-e50d-28a0b05a5b5f",
        "colab": {
          "base_uri": "https://localhost:8080/",
          "height": 51
        }
      },
      "source": [
        "from sklearn.metrics import precision_score\n",
        "from sklearn.metrics import recall_score\n",
        "\n",
        "prec_score = precision_score(y_train_8, y_train_pred_90)\n",
        "rec_score = recall_score(y_train_8, y_train_pred_90)\n",
        "\n",
        "print('Precision = ', prec_score)\n",
        "print('Recall = ', rec_score)\n",
        "#OUCH\n",
        "#Thats the Precision Recall Tradeoff"
      ],
      "execution_count": 20,
      "outputs": [
        {
          "output_type": "stream",
          "text": [
            "Precision =  0.9000555247084953\n",
            "Recall =  0.27704665869082207\n"
          ],
          "name": "stdout"
        }
      ]
    },
    {
      "cell_type": "markdown",
      "metadata": {
        "id": "vQqkCAebkoq-",
        "colab_type": "text"
      },
      "source": [
        "## Plotting the ROC Curve (Receiver Operating Characteristic)\n",
        "### It plots True positive ratio against False positive ratio"
      ]
    },
    {
      "cell_type": "code",
      "metadata": {
        "id": "4VaK_Q9iibQS",
        "colab_type": "code",
        "colab": {}
      },
      "source": [
        "from sklearn.metrics import roc_curve\n",
        "\n",
        "fpr, tpr, thresholds = roc_curve(y_train_8, predictions_8)\n",
        "\n",
        "def plot_roc_curve(fpr, tpr, thresholds, label = None):\n",
        "  plt.plot(fpr, tpr, label = label)\n",
        "  plt.xlabel('False Positive Ratio')\n",
        "  plt.ylabel('True Positive Ratio (Recall)')\n",
        "  plt.title('ROC Curve')\n",
        "  if label is not None:\n",
        "    plt.legend()\n",
        "  plt.show()"
      ],
      "execution_count": 0,
      "outputs": []
    },
    {
      "cell_type": "code",
      "metadata": {
        "id": "YVc9MKTPpaIO",
        "colab_type": "code",
        "outputId": "f3595b90-813d-485a-fca0-ead3c8512943",
        "colab": {
          "base_uri": "https://localhost:8080/",
          "height": 404
        }
      },
      "source": [
        "plot_roc_curve(fpr, tpr, thresholds)"
      ],
      "execution_count": 22,
      "outputs": [
        {
          "output_type": "display_data",
          "data": {
            "image/png": "[encoded data removed]",
            "text/plain": [
              "<Figure size 576x432 with 1 Axes>"
            ]
          },
          "metadata": {
            "tags": [],
            "needs_background": "light"
          }
        }
      ]
    },
    {
      "cell_type": "code",
      "metadata": {
        "id": "4SJ0ztwxpct3",
        "colab_type": "code",
        "outputId": "57a93d8b-ca72-404a-e047-370904b09019",
        "colab": {
          "base_uri": "https://localhost:8080/",
          "height": 34
        }
      },
      "source": [
        "#For ROC, The more the AUC, the better.\n",
        "\n",
        "from sklearn.metrics import roc_auc_score\n",
        "\n",
        "roc_auc_score(y_train_8, predictions_8)"
      ],
      "execution_count": 23,
      "outputs": [
        {
          "output_type": "execute_result",
          "data": {
            "text/plain": [
              "0.9189876516337611"
            ]
          },
          "metadata": {
            "tags": []
          },
          "execution_count": 23
        }
      ]
    },
    {
      "cell_type": "markdown",
      "metadata": {
        "id": "QbNFKdEbsjEU",
        "colab_type": "text"
      },
      "source": [
        "## Will Try a Random Forest Classifier and compare ROC"
      ]
    },
    {
      "cell_type": "code",
      "metadata": {
        "id": "5NULyL1msZbo",
        "colab_type": "code",
        "colab": {}
      },
      "source": [
        "from sklearn.ensemble import RandomForestClassifier\n",
        "\n",
        "forest_clf = RandomForestClassifier(random_state = 22)\n",
        "y_probas_forest = cross_val_predict(forest_clf, X_train, y_train_8, cv = 3, \n",
        "                                    method = 'predict_proba')"
      ],
      "execution_count": 0,
      "outputs": []
    },
    {
      "cell_type": "code",
      "metadata": {
        "id": "OqUtPMPus_gh",
        "colab_type": "code",
        "outputId": "6e645a19-dba2-41e3-fe9f-a3aab09f3182",
        "colab": {
          "base_uri": "https://localhost:8080/",
          "height": 404
        }
      },
      "source": [
        "#The ROC Curve expects labels && ( scores || probabilities )\n",
        "\n",
        "y_scores_forest = y_probas_forest[:, 1] #Defined score = probability of positive class\n",
        "fpr_forest, tpr_forest, thresholds_forest = roc_curve(y_train_8, y_scores_forest)\n",
        "plt.plot(fpr, tpr, 'b:', label = 'SGD')\n",
        "plot_roc_curve(fpr_forest, tpr_forest, thresholds_forest, 'Random Forest')"
      ],
      "execution_count": 25,
      "outputs": [
        {
          "output_type": "display_data",
          "data": {
            "image/png": "[encoded data removed]",
            "text/plain": [
              "<Figure size 576x432 with 1 Axes>"
            ]
          },
          "metadata": {
            "tags": [],
            "needs_background": "light"
          }
        }
      ]
    },
    {
      "cell_type": "code",
      "metadata": {
        "id": "aGTTX0qOtnto",
        "colab_type": "code",
        "outputId": "557c03c7-e0d8-4d56-a06b-dcfc008af93f",
        "colab": {
          "base_uri": "https://localhost:8080/",
          "height": 51
        }
      },
      "source": [
        "#Interesting!!! Will compare AUC\n",
        "forest_auc = roc_auc_score(y_train_8, y_scores_forest)\n",
        "sgd_auc = roc_auc_score(y_train_8, predictions_8)\n",
        "print(forest_auc, sgd_auc, sep = '\\n')"
      ],
      "execution_count": 26,
      "outputs": [
        {
          "output_type": "stream",
          "text": [
            "0.9966988562695931\n",
            "0.9189876516337611\n"
          ],
          "name": "stdout"
        }
      ]
    },
    {
      "cell_type": "markdown",
      "metadata": {
        "id": "dmGegspKXeaC",
        "colab_type": "text"
      },
      "source": [
        "## Finally Ill check confusion matrix for Random Forest Classifier"
      ]
    },
    {
      "cell_type": "code",
      "metadata": {
        "id": "2K7uhyn9XjuL",
        "colab_type": "code",
        "colab": {
          "base_uri": "https://localhost:8080/",
          "height": 51
        },
        "outputId": "4da787bc-8031-4b20-c707-bc69d9c24ec8"
      },
      "source": [
        "forest_pred = cross_val_predict(forest_clf, X_train, y_train_8, cv = 3)\n",
        "confusion_matrix(y_train_8, forest_pred)"
      ],
      "execution_count": 27,
      "outputs": [
        {
          "output_type": "execute_result",
          "data": {
            "text/plain": [
              "array([[54091,    58],\n",
              "       [ 1125,  4726]])"
            ]
          },
          "metadata": {
            "tags": []
          },
          "execution_count": 27
        }
      ]
    },
    {
      "cell_type": "code",
      "metadata": {
        "id": "ansZPQgwX7MY",
        "colab_type": "code",
        "colab": {}
      },
      "source": [
        ""
      ],
      "execution_count": 0,
      "outputs": []
    }
  ]
}